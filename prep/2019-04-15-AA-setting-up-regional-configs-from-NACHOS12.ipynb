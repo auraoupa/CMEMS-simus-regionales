{
 "cells": [
  {
   "cell_type": "markdown",
   "metadata": {},
   "source": [
    "# Setting up the regional configs at 1/36° from NACHOS12.L75 with NEMO 4.0 rev 10650\n",
    "\n",
    "## What region\n",
    "\n",
    "We want a geographical area that will run at 1/24° at the same cost than a full NACHOS run at 1/12° : 40° x 25° or 20° x 50° for each.\n",
    "\n",
    "We want to cover LatMix and OSMOSIS campaign, so a Gulf Stream config and a  European coast config.\n",
    "\n",
    "First guess :\n",
    " - GS : 82°W-35°W x 28°N-50°N\n",
    " - EU : 24.25°W-5°E x 32°N-65.5°N\n",
    " \n",
    "\n",
    "## The code\n",
    "\n",
    "  - download latest version of DCM : ``` git clone https://github.com/meom-group/DCM.git DCM_4.0-10650```\n",
    "  - in /scratch/cnt0024/hmg2840/albert7a/DEV/DCM_4.0-10650/DCMTOOLS/NEMOREF, run getnemoref.sh \n",
    "  - add file 4.0-10650 in /home/albert7a/modules/NEMODRAK and add ```module load NEMODRAK/4.0-10650``` in .bashrc\n",
    "  - get the modifications I added in /scratch/cnt0024/hmg2840/albert7a/DEV/DCM_4.0-10650/RUNTOOLS/lib \n",
    "  - reference configuration /home/albert7a/CONFIGS/CONFIG_GS24.L75/GS24.L75-MAA008\n",
    "\n",
    "## The grid\n",
    "\n",
    " - cdffindij -c NACHOS12.L75_coordinates.nc lon_beg lon_end lat_beg lat_end to get the indices inside NACHOS' grid for the regional config\n",
    " - use the NESTING_TOOLS and GEBCO08 with refinement factor of 3 and NACHOS coordinates and bathymetry to get coordinates for the zoom and a first estimation of bathymetry :\n",
    "     - in /scratch/cnt0024/hmg2840/albert7a/DEV/DCM_4.0-10650/DCMTOOLS/NEMOREF/NEMO4/tools\n",
    "         - ```./maketools -n NESTING -m X64_OCCIGEN2jm2```\n",
    "         - copy the directory into /scratch/cnt0024/hmg2840/albert7a/DEV/NESTING_GS_4.0\n",
    "         - ```./agrif_create_coordinates.exe namelist_zoomGS```\n",
    "         - ```./agrif_create_bathy.exe namelist_zoomGS```\n",
    " \n",
    "## Bathymetry\n",
    "\n",
    "  - use BMGTOOLS (https://wwz.ifremer.fr/mars3d/Les-outils/BathyMeshGridTOOLS/Acces-aux-codes) and world_coastline (on cal1  /mnt/meom/workdir/molines/world_coastline.line) to modify the coast (nesting tools produces garbage coastline) : following the coasts (also islands) put bathymetry at 0 when it is on continent and close straits or fjords when too narrow\n",
    " \n",
    "## Domain\n",
    "\n",
    "  - use the DOMAIN_cfg tool to construct the domain from grid and bathymetry files :\n",
    "    - in /scratch/cnt0024/hmg2840/albert7a/DEV/DCM_4.0-10650/DCMTOOLS/NEMOREF/NEMO4/tools\n",
    "         - ```./maketools -n DOMAINcfg -m X64_OCCIGEN2jm2```\n",
    "         - copy the directory into /scratch/cnt0024/hmg2840/albert7a/GS24.L75/GS24.L75-I/DOMAINcfg\n",
    "         - make the change in namelist_cfg corresponding to the config (vertical grid)\n",
    "         - ```./make_domain_cfg.exe```\n",
    "         \n",
    "## Initial conditions\n",
    "\n",
    "## Weights for atm forcing \n",
    "\n",
    "## Run-offs\n",
    "\n",
    "## Other files\n",
    "\n",
    "## BDY\n",
    "      \n",
    " "
   ]
  },
  {
   "cell_type": "code",
   "execution_count": null,
   "metadata": {},
   "outputs": [],
   "source": []
  }
 ],
 "metadata": {
  "kernelspec": {
   "display_name": "Python 2",
   "language": "python",
   "name": "python2"
  },
  "language_info": {
   "codemirror_mode": {
    "name": "ipython",
    "version": 2
   },
   "file_extension": ".py",
   "mimetype": "text/x-python",
   "name": "python",
   "nbconvert_exporter": "python",
   "pygments_lexer": "ipython2",
   "version": "2.7.16"
  }
 },
 "nbformat": 4,
 "nbformat_minor": 2
}
